{
 "metadata": {
  "name": ""
 },
 "nbformat": 3,
 "nbformat_minor": 0,
 "worksheets": [
  {
   "cells": [
    {
     "cell_type": "code",
     "collapsed": false,
     "input": [
      "import edflib"
     ],
     "language": "python",
     "metadata": {},
     "outputs": [],
     "prompt_number": 5
    },
    {
     "cell_type": "code",
     "collapsed": false,
     "input": [
      "from mne.connectivity import spectral_connectivity"
     ],
     "language": "python",
     "metadata": {},
     "outputs": [],
     "prompt_number": 6
    },
    {
     "cell_type": "code",
     "collapsed": false,
     "input": [
      "import numpy as np"
     ],
     "language": "python",
     "metadata": {},
     "outputs": [],
     "prompt_number": 7
    },
    {
     "cell_type": "code",
     "collapsed": false,
     "input": [
      "import pandas"
     ],
     "language": "python",
     "metadata": {},
     "outputs": [],
     "prompt_number": 8
    },
    {
     "cell_type": "code",
     "collapsed": false,
     "input": [
      "hdr = pandas.read_csv('../XA005045_1-1+_header.txt')"
     ],
     "language": "python",
     "metadata": {},
     "outputs": [],
     "prompt_number": 9
    },
    {
     "cell_type": "code",
     "collapsed": false,
     "input": [
      "hdr"
     ],
     "language": "python",
     "metadata": {},
     "outputs": [
      {
       "output_type": "stream",
       "stream": "stderr",
       "text": [
        "/Users/clee/anaconda/python.app/Contents/lib/python2.7/site-packages/pandas/core/config.py:570: DeprecationWarning: height has been deprecated.\n",
        "\n",
        "  warnings.warn(d.msg, DeprecationWarning)\n",
        "/Users/clee/anaconda/python.app/Contents/lib/python2.7/site-packages/pandas/core/config.py:570: DeprecationWarning: height has been deprecated.\n",
        "\n",
        "  warnings.warn(d.msg, DeprecationWarning)\n",
        "/Users/clee/anaconda/python.app/Contents/lib/python2.7/site-packages/pandas/core/config.py:570: DeprecationWarning: height has been deprecated.\n",
        "\n",
        "  warnings.warn(d.msg, DeprecationWarning)\n"
       ]
      },
      {
       "html": [
        "<div style=\"max-height:1000px;max-width:1500px;overflow:auto;\">\n",
        "<table border=\"1\" class=\"dataframe\">\n",
        "  <thead>\n",
        "    <tr style=\"text-align: right;\">\n",
        "      <th></th>\n",
        "      <th>Version</th>\n",
        "      <th>Subject</th>\n",
        "      <th>Recording</th>\n",
        "      <th>Startdate</th>\n",
        "      <th>Startime</th>\n",
        "      <th>Bytes</th>\n",
        "      <th>Reserved</th>\n",
        "      <th>NumRec</th>\n",
        "      <th>Duration</th>\n",
        "      <th>NumSig</th>\n",
        "    </tr>\n",
        "  </thead>\n",
        "  <tbody>\n",
        "    <tr>\n",
        "      <th>0</th>\n",
        "      <td> 0</td>\n",
        "      <td> X X X X                                       ...</td>\n",
        "      <td> Startdate 06-AUG-2013 X X Nihon_Kohden_EEG-110...</td>\n",
        "      <td> 06.08.13</td>\n",
        "      <td> 21.32.56</td>\n",
        "      <td> 10240</td>\n",
        "      <td> EDF+C                                       </td>\n",
        "      <td> 144001</td>\n",
        "      <td> 0.1</td>\n",
        "      <td> 38</td>\n",
        "    </tr>\n",
        "  </tbody>\n",
        "</table>\n",
        "</div>"
       ],
       "metadata": {},
       "output_type": "pyout",
       "prompt_number": 10,
       "text": [
        "   Version                                            Subject  \\\n",
        "0        0  X X X X                                       ...   \n",
        "\n",
        "                                           Recording Startdate  Startime  \\\n",
        "0  Startdate 06-AUG-2013 X X Nihon_Kohden_EEG-110...  06.08.13  21.32.56   \n",
        "\n",
        "   Bytes                                      Reserved  NumRec  Duration  \\\n",
        "0  10240  EDF+C                                         144001       0.1   \n",
        "\n",
        "   NumSig  \n",
        "0      38  "
       ]
      }
     ],
     "prompt_number": 10
    },
    {
     "cell_type": "code",
     "collapsed": false,
     "input": [
      "data = pandas.read_csv('../XA005045_1-1+_data.txt')"
     ],
     "language": "python",
     "metadata": {},
     "outputs": [],
     "prompt_number": 11
    },
    {
     "cell_type": "code",
     "collapsed": false,
     "input": [
      "data"
     ],
     "language": "python",
     "metadata": {},
     "outputs": [
      {
       "output_type": "stream",
       "stream": "stderr",
       "text": [
        "/Users/clee/anaconda/python.app/Contents/lib/python2.7/site-packages/pandas/core/config.py:570: DeprecationWarning: height has been deprecated.\n",
        "\n",
        "  warnings.warn(d.msg, DeprecationWarning)\n"
       ]
      },
      {
       "html": [
        "<pre>\n",
        "&lt;class 'pandas.core.frame.DataFrame'&gt;\n",
        "Int64Index: 2880020 entries, 0 to 2880019\n",
        "Columns: 39 entries, Time to 38\n",
        "dtypes: float64(39)\n",
        "</pre>"
       ],
       "metadata": {},
       "output_type": "pyout",
       "prompt_number": 12,
       "text": [
        "<class 'pandas.core.frame.DataFrame'>\n",
        "Int64Index: 2880020 entries, 0 to 2880019\n",
        "Columns: 39 entries, Time to 38\n",
        "dtypes: float64(39)"
       ]
      }
     ],
     "prompt_number": 12
    },
    {
     "cell_type": "code",
     "collapsed": false,
     "input": [
      "sigs = pandas.read_csv('../XA005045_1-1+_signals.txt')"
     ],
     "language": "python",
     "metadata": {},
     "outputs": [],
     "prompt_number": 13
    },
    {
     "cell_type": "code",
     "collapsed": false,
     "input": [
      "sigs"
     ],
     "language": "python",
     "metadata": {},
     "outputs": [
      {
       "output_type": "stream",
       "stream": "stderr",
       "text": [
        "/Users/clee/anaconda/python.app/Contents/lib/python2.7/site-packages/pandas/core/config.py:570: DeprecationWarning: height has been deprecated.\n",
        "\n",
        "  warnings.warn(d.msg, DeprecationWarning)\n",
        "/Users/clee/anaconda/python.app/Contents/lib/python2.7/site-packages/pandas/core/config.py:570: DeprecationWarning: height has been deprecated.\n",
        "\n",
        "  warnings.warn(d.msg, DeprecationWarning)\n",
        "/Users/clee/anaconda/python.app/Contents/lib/python2.7/site-packages/pandas/core/config.py:570: DeprecationWarning: height has been deprecated.\n",
        "\n",
        "  warnings.warn(d.msg, DeprecationWarning)\n"
       ]
      },
      {
       "html": [
        "<div style=\"max-height:1000px;max-width:1500px;overflow:auto;\">\n",
        "<table border=\"1\" class=\"dataframe\">\n",
        "  <thead>\n",
        "    <tr style=\"text-align: right;\">\n",
        "      <th></th>\n",
        "      <th>Signal</th>\n",
        "      <th>Label</th>\n",
        "      <th>Transducer</th>\n",
        "      <th>Units</th>\n",
        "      <th>Min</th>\n",
        "      <th>Max</th>\n",
        "      <th>Dmin</th>\n",
        "      <th>Dmax</th>\n",
        "      <th>PreFilter</th>\n",
        "      <th>Smp/Rec</th>\n",
        "      <th>Reserved</th>\n",
        "    </tr>\n",
        "  </thead>\n",
        "  <tbody>\n",
        "    <tr>\n",
        "      <th>0 </th>\n",
        "      <td>  1</td>\n",
        "      <td> Fp1             </td>\n",
        "      <td>                                               ...</td>\n",
        "      <td> uV      </td>\n",
        "      <td> -3200.0</td>\n",
        "      <td>  3199.902</td>\n",
        "      <td>-32768</td>\n",
        "      <td> 32767</td>\n",
        "      <td>                                               ...</td>\n",
        "      <td> 20</td>\n",
        "      <td>                                 </td>\n",
        "    </tr>\n",
        "    <tr>\n",
        "      <th>1 </th>\n",
        "      <td>  2</td>\n",
        "      <td> Fp2             </td>\n",
        "      <td>                                               ...</td>\n",
        "      <td> uV      </td>\n",
        "      <td> -3200.0</td>\n",
        "      <td>  3199.902</td>\n",
        "      <td>-32768</td>\n",
        "      <td> 32767</td>\n",
        "      <td>                                               ...</td>\n",
        "      <td> 20</td>\n",
        "      <td>                                 </td>\n",
        "    </tr>\n",
        "    <tr>\n",
        "      <th>2 </th>\n",
        "      <td>  3</td>\n",
        "      <td> F3              </td>\n",
        "      <td>                                               ...</td>\n",
        "      <td> uV      </td>\n",
        "      <td> -3200.0</td>\n",
        "      <td>  3199.902</td>\n",
        "      <td>-32768</td>\n",
        "      <td> 32767</td>\n",
        "      <td>                                               ...</td>\n",
        "      <td> 20</td>\n",
        "      <td>                                 </td>\n",
        "    </tr>\n",
        "    <tr>\n",
        "      <th>3 </th>\n",
        "      <td>  4</td>\n",
        "      <td> F4              </td>\n",
        "      <td>                                               ...</td>\n",
        "      <td> uV      </td>\n",
        "      <td> -3200.0</td>\n",
        "      <td>  3199.902</td>\n",
        "      <td>-32768</td>\n",
        "      <td> 32767</td>\n",
        "      <td>                                               ...</td>\n",
        "      <td> 20</td>\n",
        "      <td>                                 </td>\n",
        "    </tr>\n",
        "    <tr>\n",
        "      <th>4 </th>\n",
        "      <td>  5</td>\n",
        "      <td> C3              </td>\n",
        "      <td>                                               ...</td>\n",
        "      <td> uV      </td>\n",
        "      <td> -3200.0</td>\n",
        "      <td>  3199.902</td>\n",
        "      <td>-32768</td>\n",
        "      <td> 32767</td>\n",
        "      <td>                                               ...</td>\n",
        "      <td> 20</td>\n",
        "      <td>                                 </td>\n",
        "    </tr>\n",
        "    <tr>\n",
        "      <th>5 </th>\n",
        "      <td>  6</td>\n",
        "      <td> C4              </td>\n",
        "      <td>                                               ...</td>\n",
        "      <td> uV      </td>\n",
        "      <td> -3200.0</td>\n",
        "      <td>  3199.902</td>\n",
        "      <td>-32768</td>\n",
        "      <td> 32767</td>\n",
        "      <td>                                               ...</td>\n",
        "      <td> 20</td>\n",
        "      <td>                                 </td>\n",
        "    </tr>\n",
        "    <tr>\n",
        "      <th>6 </th>\n",
        "      <td>  7</td>\n",
        "      <td> P3              </td>\n",
        "      <td>                                               ...</td>\n",
        "      <td> uV      </td>\n",
        "      <td> -3200.0</td>\n",
        "      <td>  3199.902</td>\n",
        "      <td>-32768</td>\n",
        "      <td> 32767</td>\n",
        "      <td>                                               ...</td>\n",
        "      <td> 20</td>\n",
        "      <td>                                 </td>\n",
        "    </tr>\n",
        "    <tr>\n",
        "      <th>7 </th>\n",
        "      <td>  8</td>\n",
        "      <td> P4              </td>\n",
        "      <td>                                               ...</td>\n",
        "      <td> uV      </td>\n",
        "      <td> -3200.0</td>\n",
        "      <td>  3199.902</td>\n",
        "      <td>-32768</td>\n",
        "      <td> 32767</td>\n",
        "      <td>                                               ...</td>\n",
        "      <td> 20</td>\n",
        "      <td>                                 </td>\n",
        "    </tr>\n",
        "    <tr>\n",
        "      <th>8 </th>\n",
        "      <td>  9</td>\n",
        "      <td> O1              </td>\n",
        "      <td>                                               ...</td>\n",
        "      <td> uV      </td>\n",
        "      <td> -3200.0</td>\n",
        "      <td>  3199.902</td>\n",
        "      <td>-32768</td>\n",
        "      <td> 32767</td>\n",
        "      <td>                                               ...</td>\n",
        "      <td> 20</td>\n",
        "      <td>                                 </td>\n",
        "    </tr>\n",
        "    <tr>\n",
        "      <th>9 </th>\n",
        "      <td> 10</td>\n",
        "      <td> O2              </td>\n",
        "      <td>                                               ...</td>\n",
        "      <td> uV      </td>\n",
        "      <td> -3200.0</td>\n",
        "      <td>  3199.902</td>\n",
        "      <td>-32768</td>\n",
        "      <td> 32767</td>\n",
        "      <td>                                               ...</td>\n",
        "      <td> 20</td>\n",
        "      <td>                                 </td>\n",
        "    </tr>\n",
        "    <tr>\n",
        "      <th>10</th>\n",
        "      <td> 11</td>\n",
        "      <td> F7              </td>\n",
        "      <td>                                               ...</td>\n",
        "      <td> uV      </td>\n",
        "      <td> -3200.0</td>\n",
        "      <td>  3199.902</td>\n",
        "      <td>-32768</td>\n",
        "      <td> 32767</td>\n",
        "      <td>                                               ...</td>\n",
        "      <td> 20</td>\n",
        "      <td>                                 </td>\n",
        "    </tr>\n",
        "    <tr>\n",
        "      <th>11</th>\n",
        "      <td> 12</td>\n",
        "      <td> F8              </td>\n",
        "      <td>                                               ...</td>\n",
        "      <td> uV      </td>\n",
        "      <td> -3200.0</td>\n",
        "      <td>  3199.902</td>\n",
        "      <td>-32768</td>\n",
        "      <td> 32767</td>\n",
        "      <td>                                               ...</td>\n",
        "      <td> 20</td>\n",
        "      <td>                                 </td>\n",
        "    </tr>\n",
        "    <tr>\n",
        "      <th>12</th>\n",
        "      <td> 13</td>\n",
        "      <td> T3              </td>\n",
        "      <td>                                               ...</td>\n",
        "      <td> uV      </td>\n",
        "      <td> -3200.0</td>\n",
        "      <td>  3199.902</td>\n",
        "      <td>-32768</td>\n",
        "      <td> 32767</td>\n",
        "      <td>                                               ...</td>\n",
        "      <td> 20</td>\n",
        "      <td>                                 </td>\n",
        "    </tr>\n",
        "    <tr>\n",
        "      <th>13</th>\n",
        "      <td> 14</td>\n",
        "      <td> T4              </td>\n",
        "      <td>                                               ...</td>\n",
        "      <td> uV      </td>\n",
        "      <td> -3200.0</td>\n",
        "      <td>  3199.902</td>\n",
        "      <td>-32768</td>\n",
        "      <td> 32767</td>\n",
        "      <td>                                               ...</td>\n",
        "      <td> 20</td>\n",
        "      <td>                                 </td>\n",
        "    </tr>\n",
        "    <tr>\n",
        "      <th>14</th>\n",
        "      <td> 15</td>\n",
        "      <td> T5              </td>\n",
        "      <td>                                               ...</td>\n",
        "      <td> uV      </td>\n",
        "      <td> -3200.0</td>\n",
        "      <td>  3199.902</td>\n",
        "      <td>-32768</td>\n",
        "      <td> 32767</td>\n",
        "      <td>                                               ...</td>\n",
        "      <td> 20</td>\n",
        "      <td>                                 </td>\n",
        "    </tr>\n",
        "    <tr>\n",
        "      <th>15</th>\n",
        "      <td> 16</td>\n",
        "      <td> T6              </td>\n",
        "      <td>                                               ...</td>\n",
        "      <td> uV      </td>\n",
        "      <td> -3200.0</td>\n",
        "      <td>  3199.902</td>\n",
        "      <td>-32768</td>\n",
        "      <td> 32767</td>\n",
        "      <td>                                               ...</td>\n",
        "      <td> 20</td>\n",
        "      <td>                                 </td>\n",
        "    </tr>\n",
        "    <tr>\n",
        "      <th>16</th>\n",
        "      <td> 17</td>\n",
        "      <td> Fz              </td>\n",
        "      <td>                                               ...</td>\n",
        "      <td> uV      </td>\n",
        "      <td> -3200.0</td>\n",
        "      <td>  3199.902</td>\n",
        "      <td>-32768</td>\n",
        "      <td> 32767</td>\n",
        "      <td>                                               ...</td>\n",
        "      <td> 20</td>\n",
        "      <td>                                 </td>\n",
        "    </tr>\n",
        "    <tr>\n",
        "      <th>17</th>\n",
        "      <td> 18</td>\n",
        "      <td> Cz              </td>\n",
        "      <td>                                               ...</td>\n",
        "      <td> uV      </td>\n",
        "      <td> -3200.0</td>\n",
        "      <td>  3199.902</td>\n",
        "      <td>-32768</td>\n",
        "      <td> 32767</td>\n",
        "      <td>                                               ...</td>\n",
        "      <td> 20</td>\n",
        "      <td>                                 </td>\n",
        "    </tr>\n",
        "    <tr>\n",
        "      <th>18</th>\n",
        "      <td> 19</td>\n",
        "      <td> Pz              </td>\n",
        "      <td>                                               ...</td>\n",
        "      <td> uV      </td>\n",
        "      <td> -3200.0</td>\n",
        "      <td>  3199.902</td>\n",
        "      <td>-32768</td>\n",
        "      <td> 32767</td>\n",
        "      <td>                                               ...</td>\n",
        "      <td> 20</td>\n",
        "      <td>                                 </td>\n",
        "    </tr>\n",
        "    <tr>\n",
        "      <th>19</th>\n",
        "      <td> 20</td>\n",
        "      <td> E               </td>\n",
        "      <td>                                               ...</td>\n",
        "      <td> uV      </td>\n",
        "      <td> -3200.0</td>\n",
        "      <td>  3199.902</td>\n",
        "      <td>-32768</td>\n",
        "      <td> 32767</td>\n",
        "      <td>                                               ...</td>\n",
        "      <td> 20</td>\n",
        "      <td>                                 </td>\n",
        "    </tr>\n",
        "    <tr>\n",
        "      <th>20</th>\n",
        "      <td> 21</td>\n",
        "      <td> SP1             </td>\n",
        "      <td>                                               ...</td>\n",
        "      <td> uV      </td>\n",
        "      <td> -3200.0</td>\n",
        "      <td>  3199.902</td>\n",
        "      <td>-32768</td>\n",
        "      <td> 32767</td>\n",
        "      <td>                                               ...</td>\n",
        "      <td> 20</td>\n",
        "      <td>                                 </td>\n",
        "    </tr>\n",
        "    <tr>\n",
        "      <th>21</th>\n",
        "      <td> 22</td>\n",
        "      <td> SP2             </td>\n",
        "      <td>                                               ...</td>\n",
        "      <td> uV      </td>\n",
        "      <td> -3200.0</td>\n",
        "      <td>  3199.902</td>\n",
        "      <td>-32768</td>\n",
        "      <td> 32767</td>\n",
        "      <td>                                               ...</td>\n",
        "      <td> 20</td>\n",
        "      <td>                                 </td>\n",
        "    </tr>\n",
        "    <tr>\n",
        "      <th>22</th>\n",
        "      <td> 23</td>\n",
        "      <td> A1              </td>\n",
        "      <td>                                               ...</td>\n",
        "      <td> uV      </td>\n",
        "      <td> -3200.0</td>\n",
        "      <td>  3199.902</td>\n",
        "      <td>-32768</td>\n",
        "      <td> 32767</td>\n",
        "      <td>                                               ...</td>\n",
        "      <td> 20</td>\n",
        "      <td>                                 </td>\n",
        "    </tr>\n",
        "    <tr>\n",
        "      <th>23</th>\n",
        "      <td> 24</td>\n",
        "      <td> A2              </td>\n",
        "      <td>                                               ...</td>\n",
        "      <td> uV      </td>\n",
        "      <td> -3200.0</td>\n",
        "      <td>  3199.902</td>\n",
        "      <td>-32768</td>\n",
        "      <td> 32767</td>\n",
        "      <td>                                               ...</td>\n",
        "      <td> 20</td>\n",
        "      <td>                                 </td>\n",
        "    </tr>\n",
        "    <tr>\n",
        "      <th>24</th>\n",
        "      <td> 25</td>\n",
        "      <td> T1              </td>\n",
        "      <td>                                               ...</td>\n",
        "      <td> uV      </td>\n",
        "      <td> -3200.0</td>\n",
        "      <td>  3199.902</td>\n",
        "      <td>-32768</td>\n",
        "      <td> 32767</td>\n",
        "      <td>                                               ...</td>\n",
        "      <td> 20</td>\n",
        "      <td>                                 </td>\n",
        "    </tr>\n",
        "    <tr>\n",
        "      <th>25</th>\n",
        "      <td> 26</td>\n",
        "      <td> T2              </td>\n",
        "      <td>                                               ...</td>\n",
        "      <td> uV      </td>\n",
        "      <td> -3200.0</td>\n",
        "      <td>  3199.902</td>\n",
        "      <td>-32768</td>\n",
        "      <td> 32767</td>\n",
        "      <td>                                               ...</td>\n",
        "      <td> 20</td>\n",
        "      <td>                                 </td>\n",
        "    </tr>\n",
        "    <tr>\n",
        "      <th>26</th>\n",
        "      <td> 27</td>\n",
        "      <td> ECG             </td>\n",
        "      <td>                                               ...</td>\n",
        "      <td> uV      </td>\n",
        "      <td> -3200.0</td>\n",
        "      <td>  3199.902</td>\n",
        "      <td>-32768</td>\n",
        "      <td> 32767</td>\n",
        "      <td>                                               ...</td>\n",
        "      <td> 20</td>\n",
        "      <td>                                 </td>\n",
        "    </tr>\n",
        "    <tr>\n",
        "      <th>27</th>\n",
        "      <td> 28</td>\n",
        "      <td> EYE             </td>\n",
        "      <td>                                               ...</td>\n",
        "      <td> uV      </td>\n",
        "      <td> -3200.0</td>\n",
        "      <td>  3199.902</td>\n",
        "      <td>-32768</td>\n",
        "      <td> 32767</td>\n",
        "      <td>                                               ...</td>\n",
        "      <td> 20</td>\n",
        "      <td>                                 </td>\n",
        "    </tr>\n",
        "    <tr>\n",
        "      <th>28</th>\n",
        "      <td> 29</td>\n",
        "      <td> X3              </td>\n",
        "      <td>                                               ...</td>\n",
        "      <td> uV      </td>\n",
        "      <td> -3200.0</td>\n",
        "      <td>  3199.902</td>\n",
        "      <td>-32768</td>\n",
        "      <td> 32767</td>\n",
        "      <td>                                               ...</td>\n",
        "      <td> 20</td>\n",
        "      <td>                                 </td>\n",
        "    </tr>\n",
        "    <tr>\n",
        "      <th>29</th>\n",
        "      <td> 30</td>\n",
        "      <td> EMG             </td>\n",
        "      <td>                                               ...</td>\n",
        "      <td> uV      </td>\n",
        "      <td> -3200.0</td>\n",
        "      <td>  3199.902</td>\n",
        "      <td>-32768</td>\n",
        "      <td> 32767</td>\n",
        "      <td>                                               ...</td>\n",
        "      <td> 20</td>\n",
        "      <td>                                 </td>\n",
        "    </tr>\n",
        "    <tr>\n",
        "      <th>30</th>\n",
        "      <td> 31</td>\n",
        "      <td> RESP            </td>\n",
        "      <td>                                               ...</td>\n",
        "      <td> uV      </td>\n",
        "      <td> -3200.0</td>\n",
        "      <td>  3199.902</td>\n",
        "      <td>-32768</td>\n",
        "      <td> 32767</td>\n",
        "      <td>                                               ...</td>\n",
        "      <td> 20</td>\n",
        "      <td>                                 </td>\n",
        "    </tr>\n",
        "    <tr>\n",
        "      <th>31</th>\n",
        "      <td> 32</td>\n",
        "      <td> X6              </td>\n",
        "      <td>                                               ...</td>\n",
        "      <td> uV      </td>\n",
        "      <td> -3200.0</td>\n",
        "      <td>  3199.902</td>\n",
        "      <td>-32768</td>\n",
        "      <td> 32767</td>\n",
        "      <td>                                               ...</td>\n",
        "      <td> 20</td>\n",
        "      <td>                                 </td>\n",
        "    </tr>\n",
        "    <tr>\n",
        "      <th>32</th>\n",
        "      <td> 33</td>\n",
        "      <td> X7              </td>\n",
        "      <td>                                               ...</td>\n",
        "      <td> uV      </td>\n",
        "      <td> -3200.0</td>\n",
        "      <td>  3199.902</td>\n",
        "      <td>-32768</td>\n",
        "      <td> 32767</td>\n",
        "      <td>                                               ...</td>\n",
        "      <td> 20</td>\n",
        "      <td>                                 </td>\n",
        "    </tr>\n",
        "    <tr>\n",
        "      <th>33</th>\n",
        "      <td> 34</td>\n",
        "      <td> SpO2            </td>\n",
        "      <td>                                               ...</td>\n",
        "      <td> mV      </td>\n",
        "      <td>-12002.9</td>\n",
        "      <td> 12002.560</td>\n",
        "      <td>-32768</td>\n",
        "      <td> 32767</td>\n",
        "      <td>                                               ...</td>\n",
        "      <td> 20</td>\n",
        "      <td>                                 </td>\n",
        "    </tr>\n",
        "    <tr>\n",
        "      <th>34</th>\n",
        "      <td> 35</td>\n",
        "      <td> EtCO2           </td>\n",
        "      <td>                                               ...</td>\n",
        "      <td> mV      </td>\n",
        "      <td>-12002.9</td>\n",
        "      <td> 12002.560</td>\n",
        "      <td>-32768</td>\n",
        "      <td> 32767</td>\n",
        "      <td>                                               ...</td>\n",
        "      <td> 20</td>\n",
        "      <td>                                 </td>\n",
        "    </tr>\n",
        "    <tr>\n",
        "      <th>35</th>\n",
        "      <td> 36</td>\n",
        "      <td> EEG Mark1       </td>\n",
        "      <td>                                               ...</td>\n",
        "      <td> mV      </td>\n",
        "      <td>-12002.9</td>\n",
        "      <td> 12002.560</td>\n",
        "      <td>-32768</td>\n",
        "      <td> 32767</td>\n",
        "      <td>                                               ...</td>\n",
        "      <td> 20</td>\n",
        "      <td>                                 </td>\n",
        "    </tr>\n",
        "    <tr>\n",
        "      <th>36</th>\n",
        "      <td> 37</td>\n",
        "      <td> EEG Mark2       </td>\n",
        "      <td>                                               ...</td>\n",
        "      <td> mV      </td>\n",
        "      <td>-12002.9</td>\n",
        "      <td> 12002.560</td>\n",
        "      <td>-32768</td>\n",
        "      <td> 32767</td>\n",
        "      <td>                                               ...</td>\n",
        "      <td> 20</td>\n",
        "      <td>                                 </td>\n",
        "    </tr>\n",
        "    <tr>\n",
        "      <th>37</th>\n",
        "      <td> 38</td>\n",
        "      <td> Events/Markers  </td>\n",
        "      <td>                                               ...</td>\n",
        "      <td>         </td>\n",
        "      <td>    -1.0</td>\n",
        "      <td>     1.000</td>\n",
        "      <td>-32768</td>\n",
        "      <td> 32767</td>\n",
        "      <td>                                               ...</td>\n",
        "      <td> 20</td>\n",
        "      <td>                                 </td>\n",
        "    </tr>\n",
        "  </tbody>\n",
        "</table>\n",
        "</div>"
       ],
       "metadata": {},
       "output_type": "pyout",
       "prompt_number": 14,
       "text": [
        "    Signal             Label  \\\n",
        "0        1  Fp1                \n",
        "1        2  Fp2                \n",
        "2        3  F3                 \n",
        "3        4  F4                 \n",
        "4        5  C3                 \n",
        "5        6  C4                 \n",
        "6        7  P3                 \n",
        "7        8  P4                 \n",
        "8        9  O1                 \n",
        "9       10  O2                 \n",
        "10      11  F7                 \n",
        "11      12  F8                 \n",
        "12      13  T3                 \n",
        "13      14  T4                 \n",
        "14      15  T5                 \n",
        "15      16  T6                 \n",
        "16      17  Fz                 \n",
        "17      18  Cz                 \n",
        "18      19  Pz                 \n",
        "19      20  E                  \n",
        "20      21  SP1                \n",
        "21      22  SP2                \n",
        "22      23  A1                 \n",
        "23      24  A2                 \n",
        "24      25  T1                 \n",
        "25      26  T2                 \n",
        "26      27  ECG                \n",
        "27      28  EYE                \n",
        "28      29  X3                 \n",
        "29      30  EMG                \n",
        "30      31  RESP               \n",
        "31      32  X6                 \n",
        "32      33  X7                 \n",
        "33      34  SpO2               \n",
        "34      35  EtCO2              \n",
        "35      36  EEG Mark1          \n",
        "36      37  EEG Mark2          \n",
        "37      38  Events/Markers     \n",
        "\n",
        "                                           Transducer     Units      Min  \\\n",
        "0                                                 ...  uV        -3200.0   \n",
        "1                                                 ...  uV        -3200.0   \n",
        "2                                                 ...  uV        -3200.0   \n",
        "3                                                 ...  uV        -3200.0   \n",
        "4                                                 ...  uV        -3200.0   \n",
        "5                                                 ...  uV        -3200.0   \n",
        "6                                                 ...  uV        -3200.0   \n",
        "7                                                 ...  uV        -3200.0   \n",
        "8                                                 ...  uV        -3200.0   \n",
        "9                                                 ...  uV        -3200.0   \n",
        "10                                                ...  uV        -3200.0   \n",
        "11                                                ...  uV        -3200.0   \n",
        "12                                                ...  uV        -3200.0   \n",
        "13                                                ...  uV        -3200.0   \n",
        "14                                                ...  uV        -3200.0   \n",
        "15                                                ...  uV        -3200.0   \n",
        "16                                                ...  uV        -3200.0   \n",
        "17                                                ...  uV        -3200.0   \n",
        "18                                                ...  uV        -3200.0   \n",
        "19                                                ...  uV        -3200.0   \n",
        "20                                                ...  uV        -3200.0   \n",
        "21                                                ...  uV        -3200.0   \n",
        "22                                                ...  uV        -3200.0   \n",
        "23                                                ...  uV        -3200.0   \n",
        "24                                                ...  uV        -3200.0   \n",
        "25                                                ...  uV        -3200.0   \n",
        "26                                                ...  uV        -3200.0   \n",
        "27                                                ...  uV        -3200.0   \n",
        "28                                                ...  uV        -3200.0   \n",
        "29                                                ...  uV        -3200.0   \n",
        "30                                                ...  uV        -3200.0   \n",
        "31                                                ...  uV        -3200.0   \n",
        "32                                                ...  uV        -3200.0   \n",
        "33                                                ...  mV       -12002.9   \n",
        "34                                                ...  mV       -12002.9   \n",
        "35                                                ...  mV       -12002.9   \n",
        "36                                                ...  mV       -12002.9   \n",
        "37                                                ...               -1.0   \n",
        "\n",
        "          Max   Dmin   Dmax  \\\n",
        "0    3199.902 -32768  32767   \n",
        "1    3199.902 -32768  32767   \n",
        "2    3199.902 -32768  32767   \n",
        "3    3199.902 -32768  32767   \n",
        "4    3199.902 -32768  32767   \n",
        "5    3199.902 -32768  32767   \n",
        "6    3199.902 -32768  32767   \n",
        "7    3199.902 -32768  32767   \n",
        "8    3199.902 -32768  32767   \n",
        "9    3199.902 -32768  32767   \n",
        "10   3199.902 -32768  32767   \n",
        "11   3199.902 -32768  32767   \n",
        "12   3199.902 -32768  32767   \n",
        "13   3199.902 -32768  32767   \n",
        "14   3199.902 -32768  32767   \n",
        "15   3199.902 -32768  32767   \n",
        "16   3199.902 -32768  32767   \n",
        "17   3199.902 -32768  32767   \n",
        "18   3199.902 -32768  32767   \n",
        "19   3199.902 -32768  32767   \n",
        "20   3199.902 -32768  32767   \n",
        "21   3199.902 -32768  32767   \n",
        "22   3199.902 -32768  32767   \n",
        "23   3199.902 -32768  32767   \n",
        "24   3199.902 -32768  32767   \n",
        "25   3199.902 -32768  32767   \n",
        "26   3199.902 -32768  32767   \n",
        "27   3199.902 -32768  32767   \n",
        "28   3199.902 -32768  32767   \n",
        "29   3199.902 -32768  32767   \n",
        "30   3199.902 -32768  32767   \n",
        "31   3199.902 -32768  32767   \n",
        "32   3199.902 -32768  32767   \n",
        "33  12002.560 -32768  32767   \n",
        "34  12002.560 -32768  32767   \n",
        "35  12002.560 -32768  32767   \n",
        "36  12002.560 -32768  32767   \n",
        "37      1.000 -32768  32767   \n",
        "\n",
        "                                            PreFilter  Smp/Rec  \\\n",
        "0                                                 ...       20   \n",
        "1                                                 ...       20   \n",
        "2                                                 ...       20   \n",
        "3                                                 ...       20   \n",
        "4                                                 ...       20   \n",
        "5                                                 ...       20   \n",
        "6                                                 ...       20   \n",
        "7                                                 ...       20   \n",
        "8                                                 ...       20   \n",
        "9                                                 ...       20   \n",
        "10                                                ...       20   \n",
        "11                                                ...       20   \n",
        "12                                                ...       20   \n",
        "13                                                ...       20   \n",
        "14                                                ...       20   \n",
        "15                                                ...       20   \n",
        "16                                                ...       20   \n",
        "17                                                ...       20   \n",
        "18                                                ...       20   \n",
        "19                                                ...       20   \n",
        "20                                                ...       20   \n",
        "21                                                ...       20   \n",
        "22                                                ...       20   \n",
        "23                                                ...       20   \n",
        "24                                                ...       20   \n",
        "25                                                ...       20   \n",
        "26                                                ...       20   \n",
        "27                                                ...       20   \n",
        "28                                                ...       20   \n",
        "29                                                ...       20   \n",
        "30                                                ...       20   \n",
        "31                                                ...       20   \n",
        "32                                                ...       20   \n",
        "33                                                ...       20   \n",
        "34                                                ...       20   \n",
        "35                                                ...       20   \n",
        "36                                                ...       20   \n",
        "37                                                ...       20   \n",
        "\n",
        "                            Reserved  \n",
        "0                                     \n",
        "1                                     \n",
        "2                                     \n",
        "3                                     \n",
        "4                                     \n",
        "5                                     \n",
        "6                                     \n",
        "7                                     \n",
        "8                                     \n",
        "9                                     \n",
        "10                                    \n",
        "11                                    \n",
        "12                                    \n",
        "13                                    \n",
        "14                                    \n",
        "15                                    \n",
        "16                                    \n",
        "17                                    \n",
        "18                                    \n",
        "19                                    \n",
        "20                                    \n",
        "21                                    \n",
        "22                                    \n",
        "23                                    \n",
        "24                                    \n",
        "25                                    \n",
        "26                                    \n",
        "27                                    \n",
        "28                                    \n",
        "29                                    \n",
        "30                                    \n",
        "31                                    \n",
        "32                                    \n",
        "33                                    \n",
        "34                                    \n",
        "35                                    \n",
        "36                                    \n",
        "37                                    "
       ]
      }
     ],
     "prompt_number": 14
    },
    {
     "cell_type": "code",
     "collapsed": false,
     "input": [
      "arr = np.array(data)"
     ],
     "language": "python",
     "metadata": {},
     "outputs": [],
     "prompt_number": 15
    },
    {
     "cell_type": "code",
     "collapsed": false,
     "input": [
      "arr"
     ],
     "language": "python",
     "metadata": {},
     "outputs": [
      {
       "metadata": {},
       "output_type": "pyout",
       "prompt_number": 18,
       "text": [
        "array([[  0.00000000e+00,   6.68943560e+01,   2.47753721e+02, ...,\n",
        "         -1.20029000e+04,  -1.20029000e+04,   7.60000000e-05],\n",
        "       [  5.00000000e-03,   6.29881060e+01,   2.44628721e+02, ...,\n",
        "         -1.20029000e+04,  -1.20029000e+04,   7.60000000e-05],\n",
        "       [  1.00000000e-02,   5.28318570e+01,   2.33202941e+02, ...,\n",
        "         -1.20029000e+04,  -1.20029000e+04,   7.60000000e-05],\n",
        "       ..., \n",
        "       [  1.44000850e+04,  -4.09181380e+01,  -8.61329800e+01, ...,\n",
        "         -1.15032670e+04,  -1.20029000e+04,   1.50000000e-05],\n",
        "       [  1.44000900e+04,  -4.00392320e+01,  -8.50587610e+01, ...,\n",
        "         -1.20029000e+04,  -1.20029000e+04,   1.50000000e-05],\n",
        "       [  1.44000950e+04,  -3.81837640e+01,  -8.25196990e+01, ...,\n",
        "         -1.20029000e+04,  -1.20029000e+04,   1.50000000e-05]])"
       ]
      }
     ],
     "prompt_number": 18
    },
    {
     "cell_type": "code",
     "collapsed": false,
     "input": [
      "arr.shape"
     ],
     "language": "python",
     "metadata": {},
     "outputs": [
      {
       "metadata": {},
       "output_type": "pyout",
       "prompt_number": 19,
       "text": [
        "(2880020, 39)"
       ]
      }
     ],
     "prompt_number": 19
    },
    {
     "cell_type": "code",
     "collapsed": false,
     "input": [
      "%pylab\n",
      "plot(arr[:2000, 1])"
     ],
     "language": "python",
     "metadata": {},
     "outputs": [
      {
       "output_type": "stream",
       "stream": "stdout",
       "text": [
        "Using matplotlib backend: MacOSX\n",
        "Populating the interactive namespace from numpy and matplotlib\n"
       ]
      },
      {
       "metadata": {},
       "output_type": "pyout",
       "prompt_number": 21,
       "text": [
        "[<matplotlib.lines.Line2D at 0x117a80dd0>]"
       ]
      }
     ],
     "prompt_number": 21
    },
    {
     "cell_type": "code",
     "collapsed": false,
     "input": [
      "%pylab inline"
     ],
     "language": "python",
     "metadata": {},
     "outputs": [
      {
       "output_type": "stream",
       "stream": "stdout",
       "text": [
        "Populating the interactive namespace from numpy and matplotlib\n"
       ]
      }
     ],
     "prompt_number": 22
    },
    {
     "cell_type": "code",
     "collapsed": false,
     "input": [
      "plot(arr[:2000, 1])"
     ],
     "language": "python",
     "metadata": {},
     "outputs": [
      {
       "metadata": {},
       "output_type": "pyout",
       "prompt_number": 23,
       "text": [
        "[<matplotlib.lines.Line2D at 0x11a9c8450>]"
       ]
      },
      {
       "metadata": {},
       "output_type": "display_data",
       "png": "[encoded data removed]",
       "text": [
        "<matplotlib.figure.Figure at 0x117a8ab10>"
       ]
      }
     ],
     "prompt_number": 23
    },
    {
     "cell_type": "code",
     "collapsed": false,
     "input": [
      "Fs = 200.0"
     ],
     "language": "python",
     "metadata": {},
     "outputs": [],
     "prompt_number": 24
    },
    {
     "cell_type": "code",
     "collapsed": false,
     "input": [
      "T = 15.0\n",
      "N = T * Fs\n",
      "tarr = arange(N)/Fs\n",
      "plot(tarr,arr[:N, 0:4])"
     ],
     "language": "python",
     "metadata": {},
     "outputs": [
      {
       "metadata": {},
       "output_type": "pyout",
       "prompt_number": 25,
       "text": [
        "[<matplotlib.lines.Line2D at 0x1195ce990>,\n",
        " <matplotlib.lines.Line2D at 0x1195cec10>,\n",
        " <matplotlib.lines.Line2D at 0x1195cee50>,\n",
        " <matplotlib.lines.Line2D at 0x1195d1050>]"
       ]
      },
      {
       "metadata": {},
       "output_type": "display_data",
       "png": "[encoded data removed]",
       "text": [
        "<matplotlib.figure.Figure at 0x117a99650>"
       ]
      }
     ],
     "prompt_number": 25
    },
    {
     "cell_type": "code",
     "collapsed": false,
     "input": [
      "plot(tarr,arr[:N, 0:4])"
     ],
     "language": "python",
     "metadata": {},
     "outputs": [
      {
       "metadata": {},
       "output_type": "pyout",
       "prompt_number": 26,
       "text": [
        "[<matplotlib.lines.Line2D at 0x11ab00b90>,\n",
        " <matplotlib.lines.Line2D at 0x11ab00e10>,\n",
        " <matplotlib.lines.Line2D at 0x11ab04090>,\n",
        " <matplotlib.lines.Line2D at 0x11ab04250>]"
       ]
      },
      {
       "metadata": {},
       "output_type": "display_data",
       "png": "[encoded data removed]",
       "text": [
        "<matplotlib.figure.Figure at 0x11a9f18d0>"
       ]
      }
     ],
     "prompt_number": 26
    },
    {
     "cell_type": "code",
     "collapsed": false,
     "input": [
      "figure()\n",
      "t = 200\n",
      "T = 10.0\n",
      "N = T * Fs\n",
      "tarr = arange(N)/Fs\n",
      "plot(tarr,arr[t*Fs:N+t*Fs, 0:4])"
     ],
     "language": "python",
     "metadata": {},
     "outputs": [
      {
       "metadata": {},
       "output_type": "pyout",
       "prompt_number": 27,
       "text": [
        "[<matplotlib.lines.Line2D at 0x11ab36f50>,\n",
        " <matplotlib.lines.Line2D at 0x11ab39210>,\n",
        " <matplotlib.lines.Line2D at 0x11ab39450>,\n",
        " <matplotlib.lines.Line2D at 0x11ab39610>]"
       ]
      },
      {
       "metadata": {},
       "output_type": "display_data",
       "png": "[encoded data removed]",
       "text": [
        "<matplotlib.figure.Figure at 0x11ab10050>"
       ]
      }
     ],
     "prompt_number": 27
    },
    {
     "cell_type": "code",
     "collapsed": false,
     "input": [
      " data.to_hdf('XA005045_1.hdf5', 'data')\n"
     ],
     "language": "python",
     "metadata": {},
     "outputs": [
      {
       "output_type": "stream",
       "stream": "stderr",
       "text": [
        "/Users/clee/anaconda/python.app/Contents/lib/python2.7/site-packages/pandas/core/config.py:570: DeprecationWarning: height has been deprecated.\n",
        "\n",
        "  warnings.warn(d.msg, DeprecationWarning)\n"
       ]
      }
     ],
     "prompt_number": 32
    },
    {
     "cell_type": "code",
     "collapsed": false,
     "input": [
      "hdr.to_hdf('XA005045_1.hdf5', 'header', append=True)"
     ],
     "language": "python",
     "metadata": {},
     "outputs": [],
     "prompt_number": 35
    },
    {
     "cell_type": "code",
     "collapsed": false,
     "input": [
      "sigs.to_hdf('XA005045_1.hdf5', 'signal_names', append=True)"
     ],
     "language": "python",
     "metadata": {},
     "outputs": [],
     "prompt_number": 36
    },
    {
     "cell_type": "code",
     "collapsed": false,
     "input": [
      "ls -lh"
     ],
     "language": "python",
     "metadata": {},
     "outputs": [
      {
       "output_type": "stream",
       "stream": "stdout",
       "text": [
        "total 1801752\r\n",
        "-rw-r--r--@ 1 clee  staff   469K Sep 11 14:21 PetersJM Brain functional networks in syndromic and non-syndromic autism- a graph theoretical study of EEG connectivity copy.pdf\r\n",
        "-rw-r--r--  1 clee  staff   879M Sep 11 20:02 XA005045_1.hdf5\r\n",
        "-rw-r--r--  1 clee  staff   3.6K Sep 11 14:46 experiment-eeg-connectivity.py\r\n",
        "-rw-r--r--  1 clee  staff    45K Mar 30 20:01 experiment-with-cfc-hilbert.py\r\n",
        "-rw-r--r--  1 clee  staff   168K Sep 11 20:02 try_connectivity.ipynb\r\n",
        "-rw-r--r--  1 clee  staff   1.1K Sep 11 20:02 try_connectivity.py\r\n"
       ]
      }
     ],
     "prompt_number": 37
    },
    {
     "cell_type": "code",
     "collapsed": false,
     "input": [
      "ls -lh ../X*"
     ],
     "language": "python",
     "metadata": {},
     "outputs": [
      {
       "output_type": "stream",
       "stream": "stdout",
       "text": [
        "-rw-r--r--  1 clee  staff   216M Sep  7 15:09 ../XA005045_1-1+.edf\r\n",
        "-rw-r--r--  1 clee  staff   206B Sep  7 15:13 ../XA005045_1-1+_annotations.txt\r\n",
        "-rw-r--r--  1 clee  staff   1.1G Sep  7 15:13 ../XA005045_1-1+_data.txt\r\n",
        "-rw-r--r--  1 clee  staff   345B Sep  7 15:13 ../XA005045_1-1+_header.txt\r\n",
        "-rw-r--r--  1 clee  staff   9.9K Sep  7 15:13 ../XA005045_1-1+_signals.txt\r\n"
       ]
      }
     ],
     "prompt_number": 38
    },
    {
     "cell_type": "code",
     "collapsed": false,
     "input": [
      "!rm compressed.hdf5\n",
      "!ptrepack --chunkshape=auto --complevel=9 --complib=blosc  XA005045_1.hdf5 compresssed.hdf5\n"
     ],
     "language": "python",
     "metadata": {},
     "outputs": [
      {
       "output_type": "stream",
       "stream": "stdout",
       "text": [
        "rm: compressed.hdf5: No such file or directory\r\n"
       ]
      },
      {
       "output_type": "stream",
       "stream": "stdout",
       "text": [
        "Problems doing the copy from 'XA005045_1.hdf5:/' to 'compresssed.hdf5:/'\r\n",
        "The error was --> <class 'tables.exceptions.NodeError'>: destination group ``/`` already has a node named ``header``; you may want to use the ``overwrite`` argument\r\n",
        "The destination file looks like:\r\n",
        "compresssed.hdf5 (File) ''\r\n",
        "Last modif.: 'Wed Sep 11 20:25:44 2013'\r\n",
        "Object Tree: \r\n",
        "/ (RootGroup) ''\r\n",
        "/data (Group) ''\r\n",
        "/data/axis0 (Array(39,)) ''\r\n",
        "/data/axis1 (Array(2880020,)) ''\r\n",
        "/data/block0_items (Array(39,)) ''\r\n",
        "/data/block0_values (Array(2880020, 39)) ''\r\n",
        "/header (Group) ''\r\n",
        "/header/table (Table(1,), shuffle, zlib(5)) ''\r\n",
        "/signal_names (Group) ''\r\n",
        "/signal_names/table (Table(38,), shuffle, zlib(5)) ''\r\n",
        "\r\n",
        "Traceback (most recent call last):\r\n",
        "  File \"/Users/clee/anaconda/bin/ptrepack\", line 3, in <module>\r\n",
        "    main()\r\n",
        "  File \"/Users/clee/anaconda/lib/python2.7/site-packages/tables/scripts/ptrepack.py\", line 480, in main\r\n",
        "    upgradeflavors=upgradeflavors)\r\n",
        "  File \"/Users/clee/anaconda/lib/python2.7/site-packages/tables/scripts/ptrepack.py\", line 225, in copyChildren\r\n",
        "    raise RuntimeError(\"Please check that the node names are not \"\r\n",
        "RuntimeError: Please check that the node names are not duplicated in destination, and if so, add the --overwrite-nodes flag if desired. In particular, pay attention that rootUEP is not fooling you.\r\n"
       ]
      }
     ],
     "prompt_number": 43
    },
    {
     "cell_type": "code",
     "collapsed": false,
     "input": [
      "ls -lh"
     ],
     "language": "python",
     "metadata": {},
     "outputs": [
      {
       "output_type": "stream",
       "stream": "stdout",
       "text": [
        "total 3601808\r\n",
        "-rw-r--r--@ 1 clee  staff   469K Sep 11 14:21 PetersJM Brain functional networks in syndromic and non-syndromic autism- a graph theoretical study of EEG connectivity copy.pdf\r\n",
        "-rw-r--r--  1 clee  staff   879M Sep 11 20:02 XA005045_1.hdf5\r\n",
        "-rw-r--r--  1 clee  staff   879M Sep 11 20:25 compresssed.hdf5\r\n",
        "-rw-r--r--  1 clee  staff   3.6K Sep 11 14:46 experiment-eeg-connectivity.py\r\n",
        "-rw-r--r--  1 clee  staff    45K Mar 30 20:01 experiment-with-cfc-hilbert.py\r\n",
        "-rw-r--r--  1 clee  staff   166K Sep 11 20:16 try_connectivity.ipynb\r\n",
        "-rw-r--r--  1 clee  staff   1.1K Sep 11 20:16 try_connectivity.py\r\n"
       ]
      }
     ],
     "prompt_number": 41
    },
    {
     "cell_type": "code",
     "collapsed": false,
     "input": [
      "!rm -f compressed.hdf5"
     ],
     "language": "python",
     "metadata": {},
     "outputs": [],
     "prompt_number": 44
    },
    {
     "cell_type": "code",
     "collapsed": false,
     "input": [
      "ls -lh"
     ],
     "language": "python",
     "metadata": {},
     "outputs": [
      {
       "output_type": "stream",
       "stream": "stdout",
       "text": [
        "total 3601808\r\n",
        "-rw-r--r--@ 1 clee  staff   469K Sep 11 14:21 PetersJM Brain functional networks in syndromic and non-syndromic autism- a graph theoretical study of EEG connectivity copy.pdf\r\n",
        "-rw-r--r--  1 clee  staff   879M Sep 11 20:02 XA005045_1.hdf5\r\n",
        "-rw-r--r--  1 clee  staff   879M Sep 11 20:25 compresssed.hdf5\r\n",
        "-rw-r--r--  1 clee  staff   3.6K Sep 11 14:46 experiment-eeg-connectivity.py\r\n",
        "-rw-r--r--  1 clee  staff    45K Mar 30 20:01 experiment-with-cfc-hilbert.py\r\n",
        "-rw-r--r--  1 clee  staff   168K Sep 11 20:26 try_connectivity.ipynb\r\n",
        "-rw-r--r--  1 clee  staff   1.3K Sep 11 20:26 try_connectivity.py\r\n"
       ]
      }
     ],
     "prompt_number": 45
    },
    {
     "cell_type": "code",
     "collapsed": false,
     "input": [
      "rm -f compresssed.hdf5"
     ],
     "language": "python",
     "metadata": {},
     "outputs": [],
     "prompt_number": 48
    },
    {
     "cell_type": "code",
     "collapsed": false,
     "input": [
      "dataf = data\n",
      "data = np.array(data)"
     ],
     "language": "python",
     "metadata": {},
     "outputs": [],
     "prompt_number": 49
    },
    {
     "cell_type": "code",
     "collapsed": false,
     "input": [
      "data.shape"
     ],
     "language": "python",
     "metadata": {},
     "outputs": [
      {
       "metadata": {},
       "output_type": "pyout",
       "prompt_number": 50,
       "text": [
        "(2880020, 39)"
       ]
      }
     ],
     "prompt_number": 50
    },
    {
     "cell_type": "code",
     "collapsed": false,
     "input": [
      "data[1,:]"
     ],
     "language": "python",
     "metadata": {},
     "outputs": [
      {
       "metadata": {},
       "output_type": "pyout",
       "prompt_number": 51,
       "text": [
        "array([  5.00000000e-03,   6.29881060e+01,   2.44628721e+02,\n",
        "        -7.20704810e+01,  -5.96681370e+01,   4.58006070e+01,\n",
        "        -4.57032940e+01,  -6.61134500e+01,  -1.83398600e+02,\n",
        "        -3.12500155e+02,  -2.61328283e+02,  -1.24609540e+02,\n",
        "         1.12792791e+02,  -1.71484538e+02,  -1.14550947e+02,\n",
        "        -1.04394698e+02,  -1.07129072e+02,  -5.85939190e+01,\n",
        "        -2.08593911e+02,  -2.97949375e+02,   5.66389000e+00,\n",
        "         6.12402139e+02,   3.82226370e+02,  -1.91015787e+02,\n",
        "        -1.94824380e+02,   3.74120902e+02,   1.37128882e+03,\n",
        "        -8.18261847e+02,  -1.98243900e+01,  -4.79493880e+01,\n",
        "        -3.82031401e+02,  -8.80175906e+02,   2.34082001e+03,\n",
        "         6.19433389e+02,   1.31500000e-02,   1.31500000e-02,\n",
        "        -1.20029000e+04,  -1.20029000e+04,   7.60000000e-05])"
       ]
      }
     ],
     "prompt_number": 51
    },
    {
     "cell_type": "code",
     "collapsed": false,
     "input": [
      "plot(data[50000:54000, 1]- data[50000:54000, 10]) #Fp1-F7"
     ],
     "language": "python",
     "metadata": {},
     "outputs": [
      {
       "metadata": {},
       "output_type": "pyout",
       "prompt_number": 55,
       "text": [
        "[<matplotlib.lines.Line2D at 0x1200562d0>]"
       ]
      },
      {
       "metadata": {},
       "output_type": "display_data",
       "png": "[encoded data removed]",
       "text": [
        "<matplotlib.figure.Figure at 0x120037090>"
       ]
      }
     ],
     "prompt_number": 55
    },
    {
     "cell_type": "code",
     "collapsed": false,
     "input": [
      "622.0/30"
     ],
     "language": "python",
     "metadata": {},
     "outputs": [
      {
       "metadata": {},
       "output_type": "pyout",
       "prompt_number": 56,
       "text": [
        "20.733333333333334"
       ]
      }
     ],
     "prompt_number": 56
    },
    {
     "cell_type": "code",
     "collapsed": false,
     "input": [
      "4*4"
     ],
     "language": "python",
     "metadata": {},
     "outputs": [
      {
       "metadata": {},
       "output_type": "pyout",
       "prompt_number": 57,
       "text": [
        "16"
       ]
      }
     ],
     "prompt_number": 57
    },
    {
     "cell_type": "code",
     "collapsed": false,
     "input": [],
     "language": "python",
     "metadata": {},
     "outputs": []
    }
   ],
   "metadata": {}
  }
 ]
}